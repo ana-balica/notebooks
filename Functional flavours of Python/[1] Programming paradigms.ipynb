{
 "cells": [
  {
   "cell_type": "markdown",
   "metadata": {
    "slideshow": {
     "slide_type": "-"
    }
   },
   "source": [
    "Nobody in computer science came up with the idea that first we need to create a finite set of programming paradigms and then create programming languages that'll fit one of those well defined cases. Paradigms are more of an afterthought that tries to bundle together some similarities of various programming languages. In fact programming languages rarely fit just one paradigm, they seem to borrow ideas from different programming paradigms.\n",
    "\n",
    "Here are most common programming paradigms:\n",
    "* imperative\n",
    "* procedural\n",
    "* object-oriented\n",
    "* declarative\n",
    "* functional\n",
    "\n",
    "# Imperative Python\n",
    "\n",
    "Imperative programming implies writing statements (think of a statement as something that performs one trivial action, for example, assigning a value to a variable) and can directly change the program state. Here's some imperative Python:"
   ]
  },
  {
   "cell_type": "code",
   "execution_count": 13,
   "metadata": {
    "collapsed": false
   },
   "outputs": [],
   "source": [
    "i = 0\n",
    "def increment():\n",
    "    global i\n",
    "    i += 1"
   ]
  },
  {
   "cell_type": "code",
   "execution_count": 14,
   "metadata": {
    "collapsed": false
   },
   "outputs": [
    {
     "name": "stdout",
     "output_type": "stream",
     "text": [
      "0\n",
      "1\n"
     ]
    }
   ],
   "source": [
    "print(i)\n",
    "increment()\n",
    "print(i)"
   ]
  },
  {
   "cell_type": "markdown",
   "metadata": {},
   "source": [
    "This program is characterised by global state. `i` is a global variable that gets changed. That means that we could potentially have code some place else, maybe not directly visible to us (in a different file), that could change the value of `i`. \n",
    "\n",
    "It's very hard to make assumptions about what could be the value of a global variable without reading all the code and executing it in our head. We have finite brain power and the less we need to understand to make a conclusion, the better. That's why generally you will often hear that global variables are a code smell.\n",
    "\n",
    "Don't get fooled by the usage of functions. Functions are structures that help isolate reusable behaviour, but in this case it's essentially impossible to reuse the incrementing behaviour, because it will always change this one global variable `i`.\n",
    "\n",
    "# Procedural Python\n",
    "\n",
    "Procedural programming is a specialization of imperative programming paradigm, where we also use statements to accomplish a task, but no longer prefer global state. Instead of using global state, we could use local variables.\n",
    "\n",
    "Here's how the increment looks like in procedural Python:"
   ]
  },
  {
   "cell_type": "code",
   "execution_count": 16,
   "metadata": {
    "collapsed": true
   },
   "outputs": [],
   "source": [
    "def increment(i):\n",
    "    return i + 1"
   ]
  },
  {
   "cell_type": "code",
   "execution_count": 17,
   "metadata": {
    "collapsed": false
   },
   "outputs": [
    {
     "name": "stdout",
     "output_type": "stream",
     "text": [
      "1\n",
      "43\n",
      "1\n"
     ]
    }
   ],
   "source": [
    "i = increment(0)\n",
    "print(i)\n",
    "j = increment(42)\n",
    "print(j)\n",
    "print(i)"
   ]
  },
  {
   "cell_type": "markdown",
   "metadata": {},
   "source": [
    "2 important things changed: `i` is a local variable passed to the function as an argument/parameter and the function `increment` returns the result of the computation. This is a reusable function.\n",
    "\n",
    "Also to be noted `i` in `i = increment(0)` is a totally different variable from the `i` function parameter. Changing one `i` won't affect the value of the other `i`. Moreover we can call the function `increment` multiple times and that won't affect any other variables' values.\n",
    "\n",
    "# Object-oriented Python\n",
    "\n",
    "Object-oriented programming is probably most commonly used paradigm nowadays for building large codebases. From a simple stand point OOP is about classes, objects and methods. Once we see a class keyword, we think it's OOP. Well, not exactly, not all OO languages have classes and it's not a prerequisite for writing OO code. So let's kick out classes from the definition. It's not even about objects as constructs, in fact it's all about message passing between objects. Won't dive deep into any of that, but I highly recommend reading about Alan Kay and OOP, [maybe start with this message](http://lists.squeakfoundation.org/pipermail/squeak-dev/1998-October/017019.html).\n",
    "\n",
    "OOP will often be characterized by data abstraction, data encapsulation, inheritance, polymorphism."
   ]
  },
  {
   "cell_type": "code",
   "execution_count": 19,
   "metadata": {
    "collapsed": false
   },
   "outputs": [],
   "source": [
    "class Book:\n",
    "    @property\n",
    "    def title(self):\n",
    "        return self._title\n",
    "    \n",
    "    @title.setter\n",
    "    def title(self, value):         # data encapsulation\n",
    "        self._title = value\n",
    "        \n",
    "    def publish(self):\n",
    "        pass\n",
    "    \n",
    "\n",
    "class PublicLibrary(Library):       # inheritance\n",
    "    def __init__(self, books):\n",
    "        self.books = books\n",
    "        \n",
    "        \n",
    "book = Book()                       # object \n",
    "book.title = 'War and peace'"
   ]
  },
  {
   "cell_type": "markdown",
   "metadata": {},
   "source": [
    "# Declarative not Python\n",
    "\n",
    "Python isn't a declarative language. Best example of a declarative language is SQL. SQL defines what computations should be done without specifing the detailed control flow. Declarative programming is about telling what to do, not how."
   ]
  },
  {
   "cell_type": "code",
   "execution_count": null,
   "metadata": {
    "collapsed": true
   },
   "outputs": [],
   "source": [
    "SELECT * FROM Books WHERE title = 'War and peace';"
   ]
  },
  {
   "cell_type": "markdown",
   "metadata": {},
   "source": [
    "# Functional Python\n",
    "\n",
    "Functional programming is a declarative programming paradigm (that's why we talked briefly about declarative programming) where instead of statements we program using expressions or declarations and avoid state change. It is characterized by purity, lack of side effects, immutability. Another way of thinking what is functional programming is in terms of decomposing a program into function, where each functions takes an input, returns an output and doesn't have an internal state.\n",
    "\n",
    "It's roots come from lambda calculus, which is a formal system in computational mathematics (also it's something I vaguely understand and won't be able to explain without contradicting myself a couple of times).\n",
    "\n",
    "First functional programming language was LISP developed in 1958. Lisp and its dialets are still widely used today. As we see functional programming is not a fresh paradigm, but it's gaining a lot of attention today (I might be biased).\n",
    "\n",
    "When someone says \"functional programming\" first thing that pop into my mind is Lisp, Erland and Haskell (you might be associating with different keywords). Those are obviously not the only ones, but they are strongly representative for this paradigm.\n",
    "\n",
    "As for Python, mostly regarded as a producedal and object-oriented language, Python has its fair share of a few functional concepts and constructs. \n",
    "\n",
    "\n",
    "## More reading\n",
    "\n",
    "1. Wikipedia article on programming paradigms - https://en.wikipedia.org/wiki/Comparison_of_programming_paradigms"
   ]
  }
 ],
 "metadata": {
  "kernelspec": {
   "display_name": "Python 3",
   "language": "python",
   "name": "python3"
  },
  "language_info": {
   "codemirror_mode": {
    "name": "ipython",
    "version": 3
   },
   "file_extension": ".py",
   "mimetype": "text/x-python",
   "name": "python",
   "nbconvert_exporter": "python",
   "pygments_lexer": "ipython3",
   "version": "3.5.2"
  }
 },
 "nbformat": 4,
 "nbformat_minor": 1
}
