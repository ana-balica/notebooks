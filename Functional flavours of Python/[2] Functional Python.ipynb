{
 "cells": [
  {
   "cell_type": "markdown",
   "metadata": {},
   "source": [
    "Now to the juicy part. As we've seen Python is a multi paradigm programming language and it's possible to write functional code with it. In this section we are going to discuss the following:\n",
    "\n",
    "* pure functions\n",
    "\n",
    "# Pure functions\n",
    "\n",
    "A pure function is a regular function that doesn't alter any state and doesnt' have side effects. Let's write an unpure function and its pure counterpart."
   ]
  },
  {
   "cell_type": "code",
   "execution_count": 7,
   "metadata": {
    "collapsed": false
   },
   "outputs": [
    {
     "name": "stdout",
     "output_type": "stream",
     "text": [
      "Initial container: [1, 2, 3, 4]\n",
      "Amended container: [1, 2, 3, 4]\n"
     ]
    }
   ],
   "source": [
    "def add_item(container, item):\n",
    "    container.append(item)\n",
    "    return container\n",
    "\n",
    "\n",
    "my_container = [1, 2, 3]\n",
    "new_container = add_item(my_container, 4)\n",
    "print(\"Initial container: {0}\".format(my_container))\n",
    "print(\"Amended container: {0}\".format(new_container))"
   ]
  },
  {
   "cell_type": "markdown",
   "metadata": {},
   "source": [
    "Because Python lists are mutable data structures we were able to change the object in place. This is what `list.append()` does and it's documented behaviour. But a mutable data structure doesn't mean we can't write pure functions."
   ]
  },
  {
   "cell_type": "code",
   "execution_count": 30,
   "metadata": {
    "collapsed": false
   },
   "outputs": [
    {
     "name": "stdout",
     "output_type": "stream",
     "text": [
      "Initial container: [1, 2, 3]\n",
      "Amended container: [1, 2, 3, 4]\n"
     ]
    }
   ],
   "source": [
    "def add_item(container, item):\n",
    "    new_container = list(container)\n",
    "    new_container.append(item)\n",
    "    return new_container\n",
    "\n",
    "\n",
    "my_container = [1, 2, 3]\n",
    "new_container = add_item(my_container, 4)\n",
    "print(\"Initial container: {0}\".format(my_container))\n",
    "print(\"Amended container: {0}\".format(new_container))"
   ]
  },
  {
   "cell_type": "markdown",
   "metadata": {},
   "source": [
    "The cost of making a pure function is double the memory, because we had to make an identical copy of the original list. But the benefit is that now everytime we send same input to the function we will always get a predictable output with no side effects.\n",
    "\n",
    "In this respect Python is not a purely functional language. It is filled with functions and methods that have side effects and modify state.\n",
    "\n",
    "Let's skip for now explanations on iterators and generators, talk a bit about anonymous funcitons and then dive deep into some Python built-in functions.\n",
    "\n",
    "# Lambda\n",
    "\n",
    "Anonymous functions in Python (and other languages) are called lambdas. In Python lambdas can't be longer than one line. If you want anything longer than one line, create a regular function. This in contrast with JavaScript, where anonymous function can be any size.\n",
    "\n",
    "This is what a lambda looks like."
   ]
  },
  {
   "cell_type": "code",
   "execution_count": 9,
   "metadata": {
    "collapsed": false
   },
   "outputs": [
    {
     "data": {
      "text/plain": [
       "<function __main__.<lambda>>"
      ]
     },
     "execution_count": 9,
     "metadata": {},
     "output_type": "execute_result"
    }
   ],
   "source": [
    "lambda x: x + 1"
   ]
  },
  {
   "cell_type": "markdown",
   "metadata": {},
   "source": [
    "This is equivalent to the following Python code:"
   ]
  },
  {
   "cell_type": "code",
   "execution_count": 10,
   "metadata": {
    "collapsed": true
   },
   "outputs": [],
   "source": [
    "def some_function(x):\n",
    "    return x + 1"
   ]
  },
  {
   "cell_type": "markdown",
   "metadata": {},
   "source": [
    "So what is this syntax all about? `lambda` is a keyword that tells Python this is an anonymous function. The lamdba function takes arguments like any other regular function. In this case, it's `x`. A lambda can take multiple arguments, not just one, so we could write `lambda x, y, z: x + y + z`. The colon is the delimiter between the function arguments and the function body. So `x + 1` is the function body. It might seem like it's just a computation, when in reality it's a computation that is also returned. Lambdas return always and implicitly.\n",
    "\n",
    "Because functions in Python are actually objects (in fact everything is an object in Python), we can assign them to variables and use them later."
   ]
  },
  {
   "cell_type": "code",
   "execution_count": 11,
   "metadata": {
    "collapsed": false
   },
   "outputs": [
    {
     "name": "stdout",
     "output_type": "stream",
     "text": [
      "13\n",
      "1\n"
     ]
    }
   ],
   "source": [
    "increment = lambda x: x + 1\n",
    "\n",
    "print(increment(12))\n",
    "print(increment(0))"
   ]
  },
  {
   "cell_type": "markdown",
   "metadata": {},
   "source": [
    "### Exercises\n",
    "\n",
    "1. Write a lambda that concatenates 2 strings.\n",
    "2. Write a lambda to check if an int is even."
   ]
  },
  {
   "cell_type": "markdown",
   "metadata": {},
   "source": [
    "# Map\n",
    "\n",
    "Map is a built-in function that takes in another function and an iterable (like a list, dict, set of anything you can iterate on)."
   ]
  },
  {
   "cell_type": "code",
   "execution_count": 19,
   "metadata": {
    "collapsed": false
   },
   "outputs": [
    {
     "name": "stdout",
     "output_type": "stream",
     "text": [
      "<map object at 0x105a1a8d0>\n",
      "[1, 2]\n"
     ]
    }
   ],
   "source": [
    "ints = map(int, [1.1, 2.2])\n",
    "print(ints)\n",
    "print(list(ints))"
   ]
  },
  {
   "cell_type": "markdown",
   "metadata": {},
   "source": [
    "So we call `map` function and pass 2 arguments: one is Python built-in function `int` and another is a list of floats `[1.1, 2.2]`. Map will iterate through the list and pass each element of the list to the `int` function. This also means that we can't pass any arbitrary function as a first argument, it has to be a function that takes in one argument.\n",
    "\n",
    "Our map that converts a list of floats into ints can be rewriten like that:"
   ]
  },
  {
   "cell_type": "code",
   "execution_count": 20,
   "metadata": {
    "collapsed": false
   },
   "outputs": [
    {
     "name": "stdout",
     "output_type": "stream",
     "text": [
      "[1, 2]\n"
     ]
    }
   ],
   "source": [
    "def convert_to_ints(l):\n",
    "    ints = []\n",
    "    for i in l:\n",
    "        ints.append(int(i))\n",
    "    return ints\n",
    "\n",
    "print(convert_to_ints([1.1, 2.2]))"
   ]
  },
  {
   "cell_type": "markdown",
   "metadata": {},
   "source": [
    "It returns the same result but in a different format. Map will return a generator and the `convert_to_ints` function will return a list. To be more accurate we should rewrite it like that:"
   ]
  },
  {
   "cell_type": "code",
   "execution_count": 18,
   "metadata": {
    "collapsed": false
   },
   "outputs": [
    {
     "name": "stdout",
     "output_type": "stream",
     "text": [
      "<generator object convert_to_ints at 0x105a2b888>\n",
      "[1, 2]\n"
     ]
    }
   ],
   "source": [
    "def convert_to_ints(l):\n",
    "    for i in l:\n",
    "        yield int(i)\n",
    "        \n",
    "result = convert_to_ints([1.1, 2.2])\n",
    "print(result)\n",
    "print(list(result))"
   ]
  },
  {
   "cell_type": "markdown",
   "metadata": {},
   "source": [
    "You might have realized that maps can be rewriten as list comprehensions or generator expressions."
   ]
  },
  {
   "cell_type": "code",
   "execution_count": 21,
   "metadata": {
    "collapsed": false
   },
   "outputs": [
    {
     "name": "stdout",
     "output_type": "stream",
     "text": [
      "List comprehension: [1, 2]\n",
      "Generator expression: <generator object <genexpr> at 0x105f85e60>\n",
      "Result of generator expression as a list: [1, 2]\n"
     ]
    }
   ],
   "source": [
    "# ints = map(int, [1.1, 2.2])\n",
    "ints = [int(i) for i in [1.1, 2.2]]\n",
    "ints_gen = (int(i) for i in [1.1, 2.2])\n",
    "\n",
    "print(\"List comprehension: {0}\".format(ints))\n",
    "print(\"Generator expression: {0}\".format(ints_gen))\n",
    "print(\"Result of generator expression as a list: {0}\".format(list(ints_gen)))"
   ]
  },
  {
   "cell_type": "markdown",
   "metadata": {},
   "source": [
    "Now let's combine lambda and map together. Map accepts as the first argument a function, right? Why not pass an anonymous function."
   ]
  },
  {
   "cell_type": "code",
   "execution_count": 22,
   "metadata": {
    "collapsed": false
   },
   "outputs": [
    {
     "name": "stdout",
     "output_type": "stream",
     "text": [
      "<map object at 0x105fc15c0>\n",
      "[11, 21, 31]\n"
     ]
    }
   ],
   "source": [
    "plus_one = map(lambda x: x + 1, [10, 20, 30])\n",
    "\n",
    "print(plus_one)\n",
    "print(list(plus_one))"
   ]
  },
  {
   "cell_type": "markdown",
   "metadata": {},
   "source": [
    "### Exercises\n",
    "\n",
    "1. Write a map function that computes the length of each string in a list. If given `[\"hello\", \"dear\", \"world\"]`, the result of the computation should be `[5, 4, 5]`.\n",
    "2. Write a map function that computes the power of 2 for each value in the list. If given `[1, 4, 2]`, the result of the computation should be `[1, 16, 4]`."
   ]
  },
  {
   "cell_type": "markdown",
   "metadata": {},
   "source": [
    "# Filter\n",
    "\n",
    "Filter is a function that also takes another function (called a predicate) and an iterable. It will pass each value from the iterable to the function. If the function will return a truthy value, the value will be yielded (eventually returned by the filter function). If the function will return a falsy value, the value will be discarded. It's literally filtering some values based on a criteria."
   ]
  },
  {
   "cell_type": "code",
   "execution_count": 23,
   "metadata": {
    "collapsed": false
   },
   "outputs": [
    {
     "name": "stdout",
     "output_type": "stream",
     "text": [
      "<filter object at 0x105fc1a20>\n",
      "[2, 4, 6]\n"
     ]
    }
   ],
   "source": [
    "is_even = lambda x: (x % 2) == 0\n",
    "even_values = filter(is_even, [1, 2, 3, 4, 5, 6])\n",
    "\n",
    "print(even_values)\n",
    "print(list(even_values))"
   ]
  },
  {
   "cell_type": "markdown",
   "metadata": {},
   "source": [
    "Filters can also be written as list comprehensions and generator expressions easily."
   ]
  },
  {
   "cell_type": "code",
   "execution_count": 24,
   "metadata": {
    "collapsed": false
   },
   "outputs": [
    {
     "name": "stdout",
     "output_type": "stream",
     "text": [
      "List comprehension: [2, 4, 6]\n",
      "Generator expression: <generator object <genexpr> at 0x105f85e08>\n",
      "Result of generator expression as a list: [2, 4, 6]\n"
     ]
    }
   ],
   "source": [
    "even_values = [x for x in [1, 2, 3, 4, 5, 6] if (x % 2) == 0]\n",
    "even_values_gen = (x for x in [1, 2, 3, 4, 5, 6] if (x % 2) == 0)\n",
    "\n",
    "print(\"List comprehension: {0}\".format(even_values))\n",
    "print(\"Generator expression: {0}\".format(even_values_gen))\n",
    "print(\"Result of generator expression as a list: {0}\".format(list(even_values_gen)))"
   ]
  },
  {
   "cell_type": "markdown",
   "metadata": {},
   "source": [
    "### Exercises\n",
    "\n",
    "1. Write a function to filter all zeroes from a list. `[0, 0, 1, 2, 0, 4]` -> `[1, 2, 4]`\n",
    "2. Write a function to filter all strings that start with `hate` from a list. `['hateful', 'sunny', 'hate', 'candy']` -> `['sunny', 'candy']`"
   ]
  },
  {
   "cell_type": "markdown",
   "metadata": {},
   "source": [
    "# Any and All\n",
    "\n",
    "`any` and `all` are 2 built-in functions in Python. Both accept one argument which is an iterable and return a boolean. \n",
    "\n",
    "`any` will return true if any of the elements in the iterable are true/truthy, will return false if all of the elements are false/falsy."
   ]
  },
  {
   "cell_type": "code",
   "execution_count": 26,
   "metadata": {
    "collapsed": false
   },
   "outputs": [
    {
     "name": "stdout",
     "output_type": "stream",
     "text": [
      "False\n",
      "True\n"
     ]
    }
   ],
   "source": [
    "ret1 = any([0, [], False, \"\"])\n",
    "ret2 = any([0, 0, 1, 0])\n",
    "\n",
    "print(ret1)\n",
    "print(ret2)"
   ]
  },
  {
   "cell_type": "markdown",
   "metadata": {},
   "source": [
    "`all` as you might have guessed will return true if all the elements in the iterable are truthy and false if any of the elements is falsy."
   ]
  },
  {
   "cell_type": "code",
   "execution_count": 27,
   "metadata": {
    "collapsed": false
   },
   "outputs": [
    {
     "name": "stdout",
     "output_type": "stream",
     "text": [
      "True\n",
      "False\n"
     ]
    }
   ],
   "source": [
    "ret1 = all([1, 1, True, [2, 3], \"pyladies\"])\n",
    "ret2 = all([1, 1, 0, 1, 1])\n",
    "\n",
    "print(ret1)\n",
    "print(ret2)"
   ]
  },
  {
   "cell_type": "markdown",
   "metadata": {},
   "source": [
    "These 2 functions are great aids to have in your toolset, so use them more often."
   ]
  },
  {
   "cell_type": "markdown",
   "metadata": {},
   "source": [
    "# Zip\n",
    "\n",
    "Zip is a function that takes one element from each iterable and returns them in a tuple. Hard to explain in words, but easy to understand in an example:"
   ]
  },
  {
   "cell_type": "code",
   "execution_count": 29,
   "metadata": {
    "collapsed": false
   },
   "outputs": [
    {
     "name": "stdout",
     "output_type": "stream",
     "text": [
      "<zip object at 0x105fbda48>\n",
      "[(1, 'a'), (2, 'b'), (3, 'c')]\n"
     ]
    }
   ],
   "source": [
    "ret = zip([1, 2, 3], \"abc\")\n",
    "print(ret)\n",
    "print(list(ret))"
   ]
  },
  {
   "cell_type": "markdown",
   "metadata": {},
   "source": [
    "And if we want to write a list comprehension and a generator expression, this is how we do it:"
   ]
  },
  {
   "cell_type": "code",
   "execution_count": 35,
   "metadata": {
    "collapsed": false
   },
   "outputs": [
    {
     "name": "stdout",
     "output_type": "stream",
     "text": [
      "List comprehension: [(1, 'a'), (2, 'b'), (3, 'c')]\n",
      "Generator expression: <generator object <genexpr> at 0x105a2b7d8>\n",
      "Result of generator expression as a list: [(1, 'a'), (2, 'b'), (3, 'c')]\n"
     ]
    }
   ],
   "source": [
    "list1 = [1, 2, 3]\n",
    "list2 = 'abc'\n",
    "ret1 = [(x, list(list2)[i]) for i, x in enumerate(list1)]\n",
    "ret2 = ((x, list(list2)[i]) for i, x in enumerate(list1))\n",
    "\n",
    "print(\"List comprehension: {0}\".format(ret1))\n",
    "print(\"Generator expression: {0}\".format(ret2))\n",
    "print(\"Result of generator expression as a list: {0}\".format(list(ret2)))"
   ]
  },
  {
   "cell_type": "markdown",
   "metadata": {},
   "source": [
    "In fact `enumerate` function is also functionally flavoured. It will take an iterable and return an iterable of tuples where the first element is the counter and the second one is the element. Very handy as well."
   ]
  },
  {
   "cell_type": "markdown",
   "metadata": {},
   "source": [
    "# Reduce\n",
    "\n",
    "Reduce isn't available as a built-in function in Python, it comes from `functool` module. Nevertheless it's still available out of the box. Reduce is different from map, filter and zip, it can't perform actions on infinite streams, because it needs to return a cummulative result.\n",
    "\n",
    "Reduce takes a function and an iterable, and optionally an initial value. Say if we have this operation `reduce(func, [1, 2, 3])`, then reduce will take the first 2 elements and call the function with them `func(1, 2)`. The result of this computation will be used for the next iteration, so `func(func(1, 2), 3)`."
   ]
  },
  {
   "cell_type": "code",
   "execution_count": 36,
   "metadata": {
    "collapsed": false
   },
   "outputs": [
    {
     "name": "stdout",
     "output_type": "stream",
     "text": [
      "ABBC\n"
     ]
    }
   ],
   "source": [
    "import operator, functools\n",
    "\n",
    "final = functools.reduce(operator.concat, ['A', 'BB', 'C'])\n",
    "print(final)"
   ]
  },
  {
   "cell_type": "markdown",
   "metadata": {},
   "source": [
    "So what happened here is reduce first concatenated 'A' and 'BB' into 'ABB', and then concatenated 'ABB' with 'C', which resulted in 'ABBC'.\n",
    "\n",
    "I mentioned reduce can take an initial value, let's see how that looks like."
   ]
  },
  {
   "cell_type": "code",
   "execution_count": 39,
   "metadata": {
    "collapsed": false
   },
   "outputs": [
    {
     "name": "stdout",
     "output_type": "stream",
     "text": [
      "12\n"
     ]
    }
   ],
   "source": [
    "import operator, functools\n",
    "\n",
    "final = functools.reduce(operator.mul, [1, 2, 3], 2)\n",
    "print(final)"
   ]
  },
  {
   "cell_type": "markdown",
   "metadata": {},
   "source": [
    "If the initial value is provided then the computation start differently: first do `1 * 2`, then `(1 * 2) * 2` and finally `((1 * 2) * 2) *3`. Mathematically paranthesis are redundant, but here they help to understand the flow of the program.\n",
    "\n",
    "### Exercises\n",
    "\n",
    "1. Write a reducer to compute the sum of all elements in a list. `[1, 2, 3, 4, 5]` -> 15"
   ]
  },
  {
   "cell_type": "markdown",
   "metadata": {},
   "source": [
    "# Final notes\n",
    "\n",
    "This isn't all obviously. Python has more to offer. To better understand how those functions can work with infinite streams, I'd recommend reading about iterators and generators.\n",
    "\n",
    "Recommendations:\n",
    "* use functional flavours carefully as you might loose in readability when sprinkling too many reducers and lambdas in your code\n",
    "* always try first to write a list comprehension or generator expression before jumping right into maps and filters\n",
    "* use lambda only for very simple functions\n",
    "* pick up a more functional programming language if you liked this intro: Clojure, Haskell, Erlang, F#, Elixir."
   ]
  },
  {
   "cell_type": "markdown",
   "metadata": {},
   "source": [
    "## More reading\n",
    "\n",
    "1. Function programming HOWTO - https://docs.python.org/3/howto/functional.html\n",
    "2. A practical introduction to function programming by Mary Rose Cook - https://maryrosecook.com/blog/post/a-practical-introduction-to-functional-programming"
   ]
  }
 ],
 "metadata": {
  "kernelspec": {
   "display_name": "Python 3",
   "language": "python",
   "name": "python3"
  },
  "language_info": {
   "codemirror_mode": {
    "name": "ipython",
    "version": 3
   },
   "file_extension": ".py",
   "mimetype": "text/x-python",
   "name": "python",
   "nbconvert_exporter": "python",
   "pygments_lexer": "ipython3",
   "version": "3.5.2"
  }
 },
 "nbformat": 4,
 "nbformat_minor": 1
}
